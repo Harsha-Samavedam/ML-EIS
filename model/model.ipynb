{
 "cells": [
  {
   "cell_type": "code",
   "execution_count": 10,
   "metadata": {},
   "outputs": [],
   "source": [
    "import os\n",
    "import glob\n",
    "from utils import *\n",
    "from def_model import PKG_DIR\n",
    "os.chdir(PKG_DIR)"
   ]
  },
  {
   "cell_type": "code",
   "execution_count": 11,
   "metadata": {},
   "outputs": [],
   "source": [
    "os.chdir('../data')\n",
    "names = glob.glob('*.csv')\n",
    "names = ['../data/' + name for name in names if '_1.csv' in name or '_2.csv' in name or '_3.csv' in name or '_4.csv' in name or '_5.csv' in name]\n",
    "types = []\n",
    "for name in names:\n",
    "    type = ''\n",
    "    if 'PS' in name:\n",
    "        type = 'Polystyrene'\n",
    "    elif 'NI' in name:\n",
    "        type = 'Nitrate'\n",
    "    elif 'SS' in name:\n",
    "        type = 'Sunscreen'\n",
    "    else:\n",
    "        type = 'Plain'\n",
    "    types.append(type_dict(type))"
   ]
  },
  {
   "cell_type": "code",
   "execution_count": 12,
   "metadata": {},
   "outputs": [
    {
     "data": {
      "text/plain": "((405, 1024), (405,))"
     },
     "execution_count": 12,
     "metadata": {},
     "output_type": "execute_result"
    }
   ],
   "source": [
    "X, y = create_data_matrix(names, types)\n",
    "X.shape, y.shape"
   ]
  },
  {
   "cell_type": "code",
   "execution_count": 13,
   "metadata": {},
   "outputs": [
    {
     "data": {
      "text/plain": "(324, 1024)"
     },
     "execution_count": 13,
     "metadata": {},
     "output_type": "execute_result"
    }
   ],
   "source": [
    "from sklearn.model_selection import train_test_split\n",
    "X_train, X_test, y_train, y_test = train_test_split(X, y, test_size=0.2)\n",
    "X_train.shape"
   ]
  },
  {
   "cell_type": "code",
   "execution_count": 14,
   "metadata": {},
   "outputs": [],
   "source": [
    "import pickle as pkl\n",
    "os.chdir('../model')"
   ]
  },
  {
   "cell_type": "code",
   "execution_count": 15,
   "metadata": {},
   "outputs": [],
   "source": [
    "from sklearn.ensemble import RandomForestClassifier\n",
    "#model = RandomForestClassifier()\n",
    "#model.fit(X_train, y_train)\n",
    "#pkl.dump(model, open('MODEL', 'wb'))"
   ]
  },
  {
   "cell_type": "code",
   "execution_count": 16,
   "metadata": {},
   "outputs": [
    {
     "name": "stderr",
     "output_type": "stream",
     "text": [
      "/Users/akhil/lib/python3.9/site-packages/sklearn/base.py:299: UserWarning: Trying to unpickle estimator DecisionTreeClassifier from version 1.2.0 when using version 1.2.1. This might lead to breaking code or invalid results. Use at your own risk. For more info please refer to:\n",
      "https://scikit-learn.org/stable/model_persistence.html#security-maintainability-limitations\n",
      "  warnings.warn(\n",
      "/Users/akhil/lib/python3.9/site-packages/sklearn/base.py:299: UserWarning: Trying to unpickle estimator RandomForestClassifier from version 1.2.0 when using version 1.2.1. This might lead to breaking code or invalid results. Use at your own risk. For more info please refer to:\n",
      "https://scikit-learn.org/stable/model_persistence.html#security-maintainability-limitations\n",
      "  warnings.warn(\n"
     ]
    }
   ],
   "source": [
    "model = pkl.load(open('MODEL', 'rb'))"
   ]
  },
  {
   "cell_type": "code",
   "execution_count": 17,
   "metadata": {},
   "outputs": [
    {
     "data": {
      "text/plain": "array([0, 1, 3, 1, 0, 1, 1, 0, 0, 1, 0, 2, 1, 0, 0, 1, 0, 2, 2, 0, 0, 0,\n       0, 2, 2, 0, 1, 3, 0, 2, 2, 0, 1, 0, 0, 1, 1, 0, 0, 0, 2, 0, 1, 0,\n       0, 1, 0, 0, 0, 1, 3, 2, 0, 2, 0, 0, 0, 2, 1, 2, 1, 1, 2, 0, 0, 2,\n       2, 1, 2, 0, 2, 0, 1, 1, 0, 1, 2, 1, 2, 3, 0], dtype=int32)"
     },
     "execution_count": 17,
     "metadata": {},
     "output_type": "execute_result"
    }
   ],
   "source": [
    "y_pred = model.predict(X_test)\n",
    "y_pred"
   ]
  },
  {
   "cell_type": "code",
   "execution_count": 18,
   "metadata": {},
   "outputs": [
    {
     "data": {
      "text/plain": "array([0, 1, 3, 1, 0, 1, 1, 0, 0, 1, 0, 2, 1, 0, 0, 1, 0, 2, 2, 0, 0, 0,\n       0, 2, 2, 0, 1, 3, 0, 2, 2, 0, 1, 0, 0, 1, 1, 0, 0, 0, 2, 0, 1, 0,\n       0, 1, 0, 0, 0, 1, 3, 2, 0, 2, 0, 0, 0, 2, 1, 2, 1, 1, 2, 0, 0, 2,\n       2, 1, 2, 0, 2, 0, 1, 1, 0, 1, 2, 1, 2, 3, 0])"
     },
     "execution_count": 18,
     "metadata": {},
     "output_type": "execute_result"
    }
   ],
   "source": [
    "y_test"
   ]
  },
  {
   "cell_type": "code",
   "execution_count": 19,
   "metadata": {},
   "outputs": [
    {
     "data": {
      "text/plain": "1.0"
     },
     "execution_count": 19,
     "metadata": {},
     "output_type": "execute_result"
    }
   ],
   "source": [
    "from sklearn import metrics\n",
    "metrics.accuracy_score(y_test, y_pred)"
   ]
  }
 ],
 "metadata": {
  "kernelspec": {
   "display_name": "Python 3 (ipykernel)",
   "language": "python",
   "name": "python3"
  },
  "language_info": {
   "codemirror_mode": {
    "name": "ipython",
    "version": 3
   },
   "file_extension": ".py",
   "mimetype": "text/x-python",
   "name": "python",
   "nbconvert_exporter": "python",
   "pygments_lexer": "ipython3",
   "version": "3.9.10"
  }
 },
 "nbformat": 4,
 "nbformat_minor": 1
}

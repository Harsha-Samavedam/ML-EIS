{
 "cells": [
  {
   "cell_type": "code",
   "execution_count": 18,
   "outputs": [],
   "source": [
    "import sklearn\n",
    "import numpy as np\n",
    "import pandas as pd\n",
    "import seaborn as sns\n",
    "import matplotlib.pyplot as plt\n",
    "import tensorflow as tf\n",
    "import os\n",
    "import glob\n",
    "from util.utils import *"
   ],
   "metadata": {
    "collapsed": false,
    "pycharm": {
     "name": "#%%\n"
    }
   }
  },
  {
   "cell_type": "code",
   "execution_count": 19,
   "outputs": [
    {
     "data": {
      "text/plain": "['../data/DI_48mL_PS_2mL_1.csv',\n '../data/DI_48mL_PS_2mL_2.csv',\n '../data/DI_48mL_PS_2mL_3.csv',\n '../data/DI_48mL_PS_2mL_4.csv',\n '../data/DI_48mL_PS_2mL_5.csv',\n '../data/DI_48p2mL_PS_1p8mL_1.csv',\n '../data/DI_48p2mL_PS_1p8mL_2.csv',\n '../data/DI_48p2mL_PS_1p8mL_3.csv',\n '../data/DI_48p2mL_PS_1p8mL_4.csv',\n '../data/DI_48p2mL_PS_1p8mL_5.csv',\n '../data/DI_48p4mL_PS_1p6mL_1.csv',\n '../data/DI_48p4mL_PS_1p6mL_2.csv',\n '../data/DI_48p4mL_PS_1p6mL_3.csv',\n '../data/DI_48p4mL_PS_1p6mL_4.csv',\n '../data/DI_48p4mL_PS_1p6mL_5.csv',\n '../data/DI_48p5mL_PS_1p5mL_1.csv',\n '../data/DI_48p5mL_PS_1p5mL_2.csv',\n '../data/DI_48p5mL_PS_1p5mL_3.csv',\n '../data/DI_48p5mL_PS_1p5mL_4.csv',\n '../data/DI_48p5mL_PS_1p5mL_5.csv',\n '../data/DI_48p7mL_PS_1p3mL_1.csv',\n '../data/DI_48p7mL_PS_1p3mL_2.csv',\n '../data/DI_48p7mL_PS_1p3mL_3.csv',\n '../data/DI_48p7mL_PS_1p3mL_4.csv',\n '../data/DI_48p7mL_PS_1p3mL_5.csv',\n '../data/DI_48p8mL_PS_1p2mL_1.csv',\n '../data/DI_48p8mL_PS_1p2mL_2.csv',\n '../data/DI_48p8mL_PS_1p2mL_3.csv',\n '../data/DI_48p8mL_PS_1p2mL_4.csv',\n '../data/DI_48p8mL_PS_1p2mL_5.csv',\n '../data/DI_48p9mL_PS_1p1mL_1.csv',\n '../data/DI_48p9mL_PS_1p1mL_2.csv',\n '../data/DI_48p9mL_PS_1p1mL_3.csv',\n '../data/DI_48p9mL_PS_1p1mL_4.csv',\n '../data/DI_48p9mL_PS_1p1mL_5.csv',\n '../data/DI_49.1mL_NI_0.9mL_1.csv',\n '../data/DI_49.1mL_NI_0.9mL_2.csv',\n '../data/DI_49.1mL_NI_0.9mL_3.csv',\n '../data/DI_49.1mL_NI_0.9mL_4.csv',\n '../data/DI_49.1mL_NI_0.9mL_5.csv',\n '../data/DI_49.2mL_NI_0.8mL_1.csv',\n '../data/DI_49.2mL_NI_0.8mL_2.csv',\n '../data/DI_49.2mL_NI_0.8mL_3.csv',\n '../data/DI_49.2mL_NI_0.8mL_4.csv',\n '../data/DI_49.2mL_NI_0.8mL_5.csv',\n '../data/DI_49.3mL_NI_0.7mL_1.csv',\n '../data/DI_49.3mL_NI_0.7mL_2.csv',\n '../data/DI_49.3mL_NI_0.7mL_3.csv',\n '../data/DI_49.3mL_NI_0.7mL_4.csv',\n '../data/DI_49.3mL_NI_0.7mL_5.csv',\n '../data/DI_49.4mL_NI_0.6mL_1.csv',\n '../data/DI_49.4mL_NI_0.6mL_2.csv',\n '../data/DI_49.4mL_NI_0.6mL_3.csv',\n '../data/DI_49.4mL_NI_0.6mL_4.csv',\n '../data/DI_49.4mL_NI_0.6mL_5.csv',\n '../data/DI_49.5mL_NI_0.5mL_1.csv',\n '../data/DI_49.5mL_NI_0.5mL_2.csv',\n '../data/DI_49.5mL_NI_0.5mL_3.csv',\n '../data/DI_49.5mL_NI_0.5mL_4.csv',\n '../data/DI_49.5mL_NI_0.5mL_5.csv',\n '../data/DI_49.6mL_NI_0.4mL_1.csv',\n '../data/DI_49.6mL_NI_0.4mL_2.csv',\n '../data/DI_49.6mL_NI_0.4mL_3.csv',\n '../data/DI_49.6mL_NI_0.4mL_4.csv',\n '../data/DI_49.6mL_NI_0.4mL_5.csv',\n '../data/DI_49.7mL_NI_0.3mL_1.csv',\n '../data/DI_49.7mL_NI_0.3mL_2.csv',\n '../data/DI_49.7mL_NI_0.3mL_3.csv',\n '../data/DI_49.7mL_NI_0.3mL_4.csv',\n '../data/DI_49.7mL_NI_0.3mL_5.csv',\n '../data/DI_49.8mL_NI_0.2mL_1.csv',\n '../data/DI_49.8mL_NI_0.2mL_2.csv',\n '../data/DI_49.8mL_NI_0.2mL_3.csv',\n '../data/DI_49.8mL_NI_0.2mL_4.csv',\n '../data/DI_49.8mL_NI_0.2mL_5.csv',\n '../data/DI_49.94mL_NI_0.06mL_1.csv',\n '../data/DI_49.94mL_NI_0.06mL_2.csv',\n '../data/DI_49.94mL_NI_0.06mL_3.csv',\n '../data/DI_49.94mL_NI_0.06mL_4.csv',\n '../data/DI_49.94mL_NI_0.06mL_5.csv',\n '../data/DI_49.989mL_NI_0.011.mL_1.csv',\n '../data/DI_49.989mL_NI_0.011.mL_2.csv',\n '../data/DI_49.989mL_NI_0.011.mL_3.csv',\n '../data/DI_49.989mL_NI_0.011.mL_4.csv',\n '../data/DI_49.989mL_NI_0.011.mL_5.csv',\n '../data/DI_49.998mL_NI_0.002mL_1.csv',\n '../data/DI_49.998mL_NI_0.002mL_2.csv',\n '../data/DI_49.998mL_NI_0.002mL_3.csv',\n '../data/DI_49.998mL_NI_0.002mL_4.csv',\n '../data/DI_49.998mL_NI_0.002mL_5.csv',\n '../data/DI_49.9995mL_NI_0.0005mL_1.csv',\n '../data/DI_49.9995mL_NI_0.0005mL_2.csv',\n '../data/DI_49.9995mL_NI_0.0005mL_3.csv',\n '../data/DI_49.9995mL_NI_0.0005mL_4.csv',\n '../data/DI_49.9995mL_NI_0.0005mL_5.csv',\n '../data/DI_49.9999mL_NI_0.0001mL_1.csv',\n '../data/DI_49.9999mL_NI_0.0001mL_2.csv',\n '../data/DI_49.9999mL_NI_0.0001mL_3.csv',\n '../data/DI_49.9999mL_NI_0.0001mL_4.csv',\n '../data/DI_49.9999mL_NI_0.0001mL_5.csv',\n '../data/DI_49.9mL_NI_0.1mL_1.csv',\n '../data/DI_49.9mL_NI_0.1mL_2.csv',\n '../data/DI_49.9mL_NI_0.1mL_3.csv',\n '../data/DI_49.9mL_NI_0.1mL_4.csv',\n '../data/DI_49.9mL_NI_0.1mL_5.csv',\n '../data/DI_49mL_NI_1mL_1.csv',\n '../data/DI_49mL_NI_1mL_2.csv',\n '../data/DI_49mL_NI_1mL_3.csv',\n '../data/DI_49mL_NI_1mL_4.csv',\n '../data/DI_49mL_NI_1mL_5.csv',\n '../data/DI_49mL_PS_1mL_1.csv',\n '../data/DI_49mL_PS_1mL_2.csv',\n '../data/DI_49mL_PS_1mL_3.csv',\n '../data/DI_49mL_PS_1mL_4.csv',\n '../data/DI_49mL_PS_1mL_5.csv',\n '../data/DI_49ml_SS_1ml_1.csv',\n '../data/DI_49ml_SS_1ml_2.csv',\n '../data/DI_49ml_SS_1ml_3.csv',\n '../data/DI_49ml_SS_1ml_4.csv',\n '../data/DI_49ml_SS_1ml_5.csv',\n '../data/DI_49p1mL_PS_0p9mL_1.csv',\n '../data/DI_49p1mL_PS_0p9mL_2.csv',\n '../data/DI_49p1mL_PS_0p9mL_3.csv',\n '../data/DI_49p1mL_PS_0p9mL_4.csv',\n '../data/DI_49p1mL_PS_0p9mL_5.csv',\n '../data/DI_49p1ml_SS_0p9ml_1.csv',\n '../data/DI_49p1ml_SS_0p9ml_2.csv',\n '../data/DI_49p1ml_SS_0p9ml_3.csv',\n '../data/DI_49p1ml_SS_0p9ml_4.csv',\n '../data/DI_49p1ml_SS_0p9ml_5.csv',\n '../data/DI_49p2mL_PS_0p8mL_1.csv',\n '../data/DI_49p2mL_PS_0p8mL_2.csv',\n '../data/DI_49p2mL_PS_0p8mL_3.csv',\n '../data/DI_49p2mL_PS_0p8mL_4.csv',\n '../data/DI_49p2mL_PS_0p8mL_5.csv',\n '../data/DI_49p2ml_SS_0p8ml_1.csv',\n '../data/DI_49p2ml_SS_0p8ml_2.csv',\n '../data/DI_49p2ml_SS_0p8ml_3.csv',\n '../data/DI_49p2ml_SS_0p8ml_4.csv',\n '../data/DI_49p2ml_SS_0p8ml_5.csv',\n '../data/DI_49p3mL_PS_0p7mL_1.csv',\n '../data/DI_49p3mL_PS_0p7mL_2.csv',\n '../data/DI_49p3mL_PS_0p7mL_3.csv',\n '../data/DI_49p3mL_PS_0p7mL_4.csv',\n '../data/DI_49p3mL_PS_0p7mL_5.csv',\n '../data/DI_49p3ml_SS_0p7ml_1.csv',\n '../data/DI_49p3ml_SS_0p7ml_2.csv',\n '../data/DI_49p3ml_SS_0p7ml_3.csv',\n '../data/DI_49p3ml_SS_0p7ml_4.csv',\n '../data/DI_49p3ml_SS_0p7ml_5.csv',\n '../data/DI_49p4mL_PS_0p6mL_1.csv',\n '../data/DI_49p4mL_PS_0p6mL_2.csv',\n '../data/DI_49p4mL_PS_0p6mL_3.csv',\n '../data/DI_49p4mL_PS_0p6mL_4.csv',\n '../data/DI_49p4mL_PS_0p6mL_5.csv',\n '../data/DI_49p4ml_SS_0p6ml_1.csv',\n '../data/DI_49p4ml_SS_0p6ml_2.csv',\n '../data/DI_49p4ml_SS_0p6ml_3.csv',\n '../data/DI_49p4ml_SS_0p6ml_4.csv',\n '../data/DI_49p4ml_SS_0p6ml_5.csv',\n '../data/DI_49p5mL_PS_0p5mL_1.csv',\n '../data/DI_49p5mL_PS_0p5mL_2.csv',\n '../data/DI_49p5mL_PS_0p5mL_3.csv',\n '../data/DI_49p5mL_PS_0p5mL_4.csv',\n '../data/DI_49p5mL_PS_0p5mL_5.csv',\n '../data/DI_49p5ml_SS_0p5ml_1.csv',\n '../data/DI_49p5ml_SS_0p5ml_2.csv',\n '../data/DI_49p5ml_SS_0p5ml_3.csv',\n '../data/DI_49p5ml_SS_0p5ml_4.csv',\n '../data/DI_49p5ml_SS_0p5ml_5.csv',\n '../data/DI_49p6mL_PS_0p4mL_1.csv',\n '../data/DI_49p6mL_PS_0p4mL_2.csv',\n '../data/DI_49p6mL_PS_0p4mL_3.csv',\n '../data/DI_49p6mL_PS_0p4mL_4.csv',\n '../data/DI_49p6mL_PS_0p4mL_5.csv',\n '../data/DI_49p6ml_SS_0p4ml_1.csv',\n '../data/DI_49p6ml_SS_0p4ml_2.csv',\n '../data/DI_49p6ml_SS_0p4ml_3.csv',\n '../data/DI_49p6ml_SS_0p4ml_4.csv',\n '../data/DI_49p6ml_SS_0p4ml_5.csv',\n '../data/DI_49p7mL_PS_0p3mL_1.csv',\n '../data/DI_49p7mL_PS_0p3mL_2.csv',\n '../data/DI_49p7mL_PS_0p3mL_3.csv',\n '../data/DI_49p7mL_PS_0p3mL_4.csv',\n '../data/DI_49p7mL_PS_0p3mL_5.csv',\n '../data/DI_49p7ml_SS_0p3ml_1.csv',\n '../data/DI_49p7ml_SS_0p3ml_2.csv',\n '../data/DI_49p7ml_SS_0p3ml_3.csv',\n '../data/DI_49p7ml_SS_0p3ml_4.csv',\n '../data/DI_49p7ml_SS_0p3ml_5.csv',\n '../data/DI_49p8mL_PS_0p2mL_1.csv',\n '../data/DI_49p8mL_PS_0p2mL_2.csv',\n '../data/DI_49p8mL_PS_0p2mL_3.csv',\n '../data/DI_49p8mL_PS_0p2mL_4.csv',\n '../data/DI_49p8mL_PS_0p2mL_5.csv',\n '../data/DI_49p8ml_SS_0p2ml_1.csv',\n '../data/DI_49p8ml_SS_0p2ml_2.csv',\n '../data/DI_49p8ml_SS_0p2ml_3.csv',\n '../data/DI_49p8ml_SS_0p2ml_4.csv',\n '../data/DI_49p8ml_SS_0p2ml_5.csv',\n '../data/DI_49p98ml_SS_0p02ml_1.csv',\n '../data/DI_49p98ml_SS_0p02ml_2.csv',\n '../data/DI_49p98ml_SS_0p02ml_3.csv',\n '../data/DI_49p98ml_SS_0p02ml_4.csv',\n '../data/DI_49p98ml_SS_0p02ml_5.csv',\n '../data/DI_49p997ml_SS_0p003ml_1.csv',\n '../data/DI_49p997ml_SS_0p003ml_2.csv',\n '../data/DI_49p997ml_SS_0p003ml_3.csv',\n '../data/DI_49p997ml_SS_0p003ml_4.csv',\n '../data/DI_49p997ml_SS_0p003ml_5.csv',\n '../data/DI_49p999ml_SS_0p001ml_1.csv',\n '../data/DI_49p999ml_SS_0p001ml_2.csv',\n '../data/DI_49p999ml_SS_0p001ml_3.csv',\n '../data/DI_49p999ml_SS_0p001ml_4.csv',\n '../data/DI_49p999ml_SS_0p001ml_5.csv',\n '../data/DI_49p9mL_PS_0p1mL_1.csv',\n '../data/DI_49p9mL_PS_0p1mL_2.csv',\n '../data/DI_49p9mL_PS_0p1mL_3.csv',\n '../data/DI_49p9mL_PS_0p1mL_4.csv',\n '../data/DI_49p9mL_PS_0p1mL_5.csv',\n '../data/DI_49p9ml_SS_0p1ml_1.csv',\n '../data/DI_49p9ml_SS_0p1ml_2.csv',\n '../data/DI_49p9ml_SS_0p1ml_3.csv',\n '../data/DI_49p9ml_SS_0p1ml_4.csv',\n '../data/DI_49p9ml_SS_0p1ml_5.csv',\n '../data/DI_50ml_1.csv',\n '../data/DI_50ml_2.csv',\n '../data/DI_50ml_3.csv',\n '../data/DI_50ml_4.csv',\n '../data/DI_50ml_5.csv',\n '../data/TP_49mL_NI_1ml_1.csv',\n '../data/TP_49mL_NI_1ml_2.csv',\n '../data/TP_49mL_NI_1ml_3.csv',\n '../data/TP_49mL_NI_1ml_4.csv',\n '../data/TP_49mL_NI_1ml_5.csv',\n '../data/TP_49p1mL_NI_0p9ml_1.csv',\n '../data/TP_49p1mL_NI_0p9ml_2.csv',\n '../data/TP_49p1mL_NI_0p9ml_3.csv',\n '../data/TP_49p1mL_NI_0p9ml_4.csv',\n '../data/TP_49p1mL_NI_0p9ml_5.csv',\n '../data/TP_49p2mL_NI_0p8ml_1.csv',\n '../data/TP_49p2mL_NI_0p8ml_2.csv',\n '../data/TP_49p2mL_NI_0p8ml_3.csv',\n '../data/TP_49p2mL_NI_0p8ml_4.csv',\n '../data/TP_49p2mL_NI_0p8ml_5.csv',\n '../data/TP_49p3mL_NI_0p7ml_1.csv',\n '../data/TP_49p3mL_NI_0p7ml_2.csv',\n '../data/TP_49p3mL_NI_0p7ml_3.csv',\n '../data/TP_49p3mL_NI_0p7ml_4.csv',\n '../data/TP_49p3mL_NI_0p7ml_5.csv',\n '../data/TP_49p6mL_NI_0p4ml_1.csv',\n '../data/TP_49p6mL_NI_0p4ml_2.csv',\n '../data/TP_49p6mL_NI_0p4ml_3.csv',\n '../data/TP_49p6mL_NI_0p4ml_4.csv',\n '../data/TP_49p6mL_NI_0p4ml_5.csv',\n '../data/TP_49p8mL_NI_0p2ml_1.csv',\n '../data/TP_49p8mL_NI_0p2ml_2.csv',\n '../data/TP_49p8mL_NI_0p2ml_3.csv',\n '../data/TP_49p8mL_NI_0p2ml_4.csv',\n '../data/TP_49p8mL_NI_0p2ml_5.csv',\n '../data/TP_49p972mL_NI_0p028ml_1.csv',\n '../data/TP_49p972mL_NI_0p028ml_2.csv',\n '../data/TP_49p972mL_NI_0p028ml_3.csv',\n '../data/TP_49p972mL_NI_0p028ml_4.csv',\n '../data/TP_49p972mL_NI_0p028ml_5.csv',\n '../data/TP_49p989mL_NI_0p011ml_1.csv',\n '../data/TP_49p989mL_NI_0p011ml_2.csv',\n '../data/TP_49p989mL_NI_0p011ml_3.csv',\n '../data/TP_49p989mL_NI_0p011ml_4.csv',\n '../data/TP_49p989mL_NI_0p011ml_5.csv',\n '../data/TP_49p998mL_NI_0p002ml_1.csv',\n '../data/TP_49p998mL_NI_0p002ml_2.csv',\n '../data/TP_49p998mL_NI_0p002ml_3.csv',\n '../data/TP_49p998mL_NI_0p002ml_4.csv',\n '../data/TP_49p998mL_NI_0p002ml_5.csv',\n '../data/TP_49p9mL_NI_0p1ml_1.csv',\n '../data/TP_49p9mL_NI_0p1ml_2.csv',\n '../data/TP_49p9mL_NI_0p1ml_3.csv',\n '../data/TP_49p9mL_NI_0p1ml_4.csv',\n '../data/TP_49p9mL_NI_0p1ml_5.csv',\n '../data/TW_48mL_PS_2mL_1.csv',\n '../data/TW_48mL_PS_2mL_2.csv',\n '../data/TW_48mL_PS_2mL_3.csv',\n '../data/TW_48mL_PS_2mL_4.csv',\n '../data/TW_48mL_PS_2mL_5.csv',\n '../data/TW_48p2mL_PS_1p8mL_1.csv',\n '../data/TW_48p2mL_PS_1p8mL_2.csv',\n '../data/TW_48p2mL_PS_1p8mL_3.csv',\n '../data/TW_48p2mL_PS_1p8mL_4.csv',\n '../data/TW_48p2mL_PS_1p8mL_5.csv',\n '../data/TW_48p4mL_PS_1p6mL_1.csv',\n '../data/TW_48p4mL_PS_1p6mL_2.csv',\n '../data/TW_48p4mL_PS_1p6mL_3.csv',\n '../data/TW_48p4mL_PS_1p6mL_4.csv',\n '../data/TW_48p4mL_PS_1p6mL_5.csv',\n '../data/TW_48p5mL_PS_1p5mL_1.csv',\n '../data/TW_48p5mL_PS_1p5mL_2.csv',\n '../data/TW_48p5mL_PS_1p5mL_3.csv',\n '../data/TW_48p5mL_PS_1p5mL_4.csv',\n '../data/TW_48p5mL_PS_1p5mL_5.csv',\n '../data/TW_48p7mL_PS_1p3mL_1.csv',\n '../data/TW_48p7mL_PS_1p3mL_2.csv',\n '../data/TW_48p7mL_PS_1p3mL_3.csv',\n '../data/TW_48p7mL_PS_1p3mL_4.csv',\n '../data/TW_48p7mL_PS_1p3mL_5.csv',\n '../data/TW_49mL_PS_1p0mL_1.csv',\n '../data/TW_49mL_PS_1p0mL_2.csv',\n '../data/TW_49mL_PS_1p0mL_3.csv',\n '../data/TW_49mL_PS_1p0mL_4.csv',\n '../data/TW_49mL_PS_1p0mL_5.csv',\n '../data/TW_49mL_SS_1mL_1.csv',\n '../data/TW_49mL_SS_1mL_2.csv',\n '../data/TW_49mL_SS_1mL_3.csv',\n '../data/TW_49mL_SS_1mL_4.csv',\n '../data/TW_49mL_SS_1mL_5.csv',\n '../data/TW_49p1mL_SS_0p9mL_1.csv',\n '../data/TW_49p1mL_SS_0p9mL_2.csv',\n '../data/TW_49p1mL_SS_0p9mL_3.csv',\n '../data/TW_49p1mL_SS_0p9mL_4.csv',\n '../data/TW_49p1mL_SS_0p9mL_5.csv',\n '../data/TW_49p2mL_PS_0p8mL_1.csv',\n '../data/TW_49p2mL_PS_0p8mL_2.csv',\n '../data/TW_49p2mL_PS_0p8mL_3.csv',\n '../data/TW_49p2mL_PS_0p8mL_4.csv',\n '../data/TW_49p2mL_PS_0p8mL_5.csv',\n '../data/TW_49p2mL_SS_0p8mL_1.csv',\n '../data/TW_49p2mL_SS_0p8mL_2.csv',\n '../data/TW_49p2mL_SS_0p8mL_3.csv',\n '../data/TW_49p2mL_SS_0p8mL_4.csv',\n '../data/TW_49p2mL_SS_0p8mL_5.csv',\n '../data/TW_49p3mL_SS_0p7mL_1.csv',\n '../data/TW_49p3mL_SS_0p7mL_2.csv',\n '../data/TW_49p3mL_SS_0p7mL_3.csv',\n '../data/TW_49p3mL_SS_0p7mL_4.csv',\n '../data/TW_49p3mL_SS_0p7mL_5.csv',\n '../data/TW_49p4mL_PS_0p6mL_1.csv',\n '../data/TW_49p4mL_PS_0p6mL_2.csv',\n '../data/TW_49p4mL_PS_0p6mL_3.csv',\n '../data/TW_49p4mL_PS_0p6mL_4.csv',\n '../data/TW_49p4mL_PS_0p6mL_5.csv',\n '../data/TW_49p6mL_PS_0p4mL_1.csv',\n '../data/TW_49p6mL_PS_0p4mL_2.csv',\n '../data/TW_49p6mL_PS_0p4mL_3.csv',\n '../data/TW_49p6mL_PS_0p4mL_4.csv',\n '../data/TW_49p6mL_PS_0p4mL_5.csv',\n '../data/TW_49p6mL_SS_0p4mL_1.csv',\n '../data/TW_49p6mL_SS_0p4mL_2.csv',\n '../data/TW_49p6mL_SS_0p4mL_3.csv',\n '../data/TW_49p6mL_SS_0p4mL_4.csv',\n '../data/TW_49p6mL_SS_0p4mL_5.csv',\n '../data/TW_49p8mL_PS_0p2mL_1.csv',\n '../data/TW_49p8mL_PS_0p2mL_2.csv',\n '../data/TW_49p8mL_PS_0p2mL_3.csv',\n '../data/TW_49p8mL_PS_0p2mL_4.csv',\n '../data/TW_49p8mL_PS_0p2mL_5.csv',\n '../data/TW_49p8mL_SS_0p2mL_1.csv',\n '../data/TW_49p8mL_SS_0p2mL_2.csv',\n '../data/TW_49p8mL_SS_0p2mL_3.csv',\n '../data/TW_49p8mL_SS_0p2mL_4.csv',\n '../data/TW_49p8mL_SS_0p2mL_5.csv',\n '../data/TW_49p972mL_SS_0p028mL_1.csv',\n '../data/TW_49p972mL_SS_0p028mL_2.csv',\n '../data/TW_49p972mL_SS_0p028mL_3.csv',\n '../data/TW_49p972mL_SS_0p028mL_4.csv',\n '../data/TW_49p972mL_SS_0p028mL_5.csv',\n '../data/TW_49p97mL_PS_0p03mL_1.csv',\n '../data/TW_49p97mL_PS_0p03mL_2.csv',\n '../data/TW_49p97mL_PS_0p03mL_3.csv',\n '../data/TW_49p97mL_PS_0p03mL_4.csv',\n '../data/TW_49p97mL_PS_0p03mL_5.csv',\n '../data/TW_49p989mL_SS_0p011mL_1.csv',\n '../data/TW_49p989mL_SS_0p011mL_2.csv',\n '../data/TW_49p989mL_SS_0p011mL_3.csv',\n '../data/TW_49p989mL_SS_0p011mL_4.csv',\n '../data/TW_49p989mL_SS_0p011mL_5.csv',\n '../data/TW_49p998mL_SS_0p002mL_1.csv',\n '../data/TW_49p998mL_SS_0p002mL_2.csv',\n '../data/TW_49p998mL_SS_0p002mL_3.csv',\n '../data/TW_49p998mL_SS_0p002mL_4.csv',\n '../data/TW_49p998mL_SS_0p002mL_5.csv',\n '../data/TW_49p999mL_PS_0p001mL_1.csv',\n '../data/TW_49p999mL_PS_0p001mL_2.csv',\n '../data/TW_49p999mL_PS_0p001mL_3.csv',\n '../data/TW_49p999mL_PS_0p001mL_4.csv',\n '../data/TW_49p999mL_PS_0p001mL_5.csv',\n '../data/TW_49p99mL_PS_0p01mL_1.csv',\n '../data/TW_49p99mL_PS_0p01mL_2.csv',\n '../data/TW_49p99mL_PS_0p01mL_3.csv',\n '../data/TW_49p99mL_PS_0p01mL_4.csv',\n '../data/TW_49p99mL_PS_0p01mL_5.csv',\n '../data/TW_49p9mL_PS_0p1mL_1.csv',\n '../data/TW_49p9mL_PS_0p1mL_2.csv',\n '../data/TW_49p9mL_PS_0p1mL_3.csv',\n '../data/TW_49p9mL_PS_0p1mL_4.csv',\n '../data/TW_49p9mL_PS_0p1mL_5.csv',\n '../data/TW_49p9mL_SS_0p1mL_1.csv',\n '../data/TW_49p9mL_SS_0p1mL_2.csv',\n '../data/TW_49p9mL_SS_0p1mL_3.csv',\n '../data/TW_49p9mL_SS_0p1mL_4.csv',\n '../data/TW_49p9mL_SS_0p1mL_5.csv',\n '../data/TW_50mL_1.csv',\n '../data/TW_50mL_2.csv',\n '../data/TW_50mL_3.csv',\n '../data/TW_50mL_4.csv',\n '../data/TW_50mL_5.csv']"
     },
     "execution_count": 19,
     "metadata": {},
     "output_type": "execute_result"
    }
   ],
   "source": [
    "os.chdir('../data')\n",
    "names = glob.glob('*.csv')\n",
    "names = ['../data/' + name for name in names if '_1.csv' in name or '_2.csv' in name or '_3.csv' in name or '_4.csv' in name or '_5.csv' in name]\n",
    "types = []\n",
    "for name in names:\n",
    "    type = ''\n",
    "    if 'PS' in name:\n",
    "        type = 'Polystyrene'\n",
    "    elif 'NI' in name:\n",
    "        type = 'Nitrate'\n",
    "    elif 'SS' in name:\n",
    "        type = 'Sunscreen'\n",
    "    else:\n",
    "        type = 'Plain'\n",
    "    types.append(type_dict(type))"
   ],
   "metadata": {
    "collapsed": false,
    "pycharm": {
     "name": "#%%\n"
    }
   }
  },
  {
   "cell_type": "code",
   "execution_count": 20,
   "outputs": [
    {
     "data": {
      "text/plain": "((405, 1024), (405,))"
     },
     "execution_count": 20,
     "metadata": {},
     "output_type": "execute_result"
    }
   ],
   "source": [
    "X, y = create_data_matrix(names, types)\n",
    "X.shape, y.shape"
   ],
   "metadata": {
    "collapsed": false,
    "pycharm": {
     "name": "#%%\n"
    }
   }
  },
  {
   "cell_type": "code",
   "execution_count": 21,
   "outputs": [
    {
     "data": {
      "text/plain": "(324, 1024)"
     },
     "execution_count": 21,
     "metadata": {},
     "output_type": "execute_result"
    }
   ],
   "source": [
    "from sklearn.model_selection import train_test_split\n",
    "X_train, X_test, y_train, y_test = train_test_split(X, y, test_size=0.2)\n",
    "X_train.shape"
   ],
   "metadata": {
    "collapsed": false,
    "pycharm": {
     "name": "#%%\n"
    }
   }
  },
  {
   "cell_type": "code",
   "execution_count": 22,
   "outputs": [],
   "source": [
    "from sklearn.ensemble import RandomForestClassifier\n",
    "\n",
    "rf = RandomForestClassifier()"
   ],
   "metadata": {
    "collapsed": false,
    "pycharm": {
     "name": "#%%\n"
    }
   }
  },
  {
   "cell_type": "code",
   "execution_count": 23,
   "outputs": [
    {
     "data": {
      "text/plain": "RandomForestClassifier()",
      "text/html": "<style>#sk-container-id-3 {color: black;background-color: white;}#sk-container-id-3 pre{padding: 0;}#sk-container-id-3 div.sk-toggleable {background-color: white;}#sk-container-id-3 label.sk-toggleable__label {cursor: pointer;display: block;width: 100%;margin-bottom: 0;padding: 0.3em;box-sizing: border-box;text-align: center;}#sk-container-id-3 label.sk-toggleable__label-arrow:before {content: \"▸\";float: left;margin-right: 0.25em;color: #696969;}#sk-container-id-3 label.sk-toggleable__label-arrow:hover:before {color: black;}#sk-container-id-3 div.sk-estimator:hover label.sk-toggleable__label-arrow:before {color: black;}#sk-container-id-3 div.sk-toggleable__content {max-height: 0;max-width: 0;overflow: hidden;text-align: left;background-color: #f0f8ff;}#sk-container-id-3 div.sk-toggleable__content pre {margin: 0.2em;color: black;border-radius: 0.25em;background-color: #f0f8ff;}#sk-container-id-3 input.sk-toggleable__control:checked~div.sk-toggleable__content {max-height: 200px;max-width: 100%;overflow: auto;}#sk-container-id-3 input.sk-toggleable__control:checked~label.sk-toggleable__label-arrow:before {content: \"▾\";}#sk-container-id-3 div.sk-estimator input.sk-toggleable__control:checked~label.sk-toggleable__label {background-color: #d4ebff;}#sk-container-id-3 div.sk-label input.sk-toggleable__control:checked~label.sk-toggleable__label {background-color: #d4ebff;}#sk-container-id-3 input.sk-hidden--visually {border: 0;clip: rect(1px 1px 1px 1px);clip: rect(1px, 1px, 1px, 1px);height: 1px;margin: -1px;overflow: hidden;padding: 0;position: absolute;width: 1px;}#sk-container-id-3 div.sk-estimator {font-family: monospace;background-color: #f0f8ff;border: 1px dotted black;border-radius: 0.25em;box-sizing: border-box;margin-bottom: 0.5em;}#sk-container-id-3 div.sk-estimator:hover {background-color: #d4ebff;}#sk-container-id-3 div.sk-parallel-item::after {content: \"\";width: 100%;border-bottom: 1px solid gray;flex-grow: 1;}#sk-container-id-3 div.sk-label:hover label.sk-toggleable__label {background-color: #d4ebff;}#sk-container-id-3 div.sk-serial::before {content: \"\";position: absolute;border-left: 1px solid gray;box-sizing: border-box;top: 0;bottom: 0;left: 50%;z-index: 0;}#sk-container-id-3 div.sk-serial {display: flex;flex-direction: column;align-items: center;background-color: white;padding-right: 0.2em;padding-left: 0.2em;position: relative;}#sk-container-id-3 div.sk-item {position: relative;z-index: 1;}#sk-container-id-3 div.sk-parallel {display: flex;align-items: stretch;justify-content: center;background-color: white;position: relative;}#sk-container-id-3 div.sk-item::before, #sk-container-id-3 div.sk-parallel-item::before {content: \"\";position: absolute;border-left: 1px solid gray;box-sizing: border-box;top: 0;bottom: 0;left: 50%;z-index: -1;}#sk-container-id-3 div.sk-parallel-item {display: flex;flex-direction: column;z-index: 1;position: relative;background-color: white;}#sk-container-id-3 div.sk-parallel-item:first-child::after {align-self: flex-end;width: 50%;}#sk-container-id-3 div.sk-parallel-item:last-child::after {align-self: flex-start;width: 50%;}#sk-container-id-3 div.sk-parallel-item:only-child::after {width: 0;}#sk-container-id-3 div.sk-dashed-wrapped {border: 1px dashed gray;margin: 0 0.4em 0.5em 0.4em;box-sizing: border-box;padding-bottom: 0.4em;background-color: white;}#sk-container-id-3 div.sk-label label {font-family: monospace;font-weight: bold;display: inline-block;line-height: 1.2em;}#sk-container-id-3 div.sk-label-container {text-align: center;}#sk-container-id-3 div.sk-container {/* jupyter's `normalize.less` sets `[hidden] { display: none; }` but bootstrap.min.css set `[hidden] { display: none !important; }` so we also need the `!important` here to be able to override the default hidden behavior on the sphinx rendered scikit-learn.org. See: https://github.com/scikit-learn/scikit-learn/issues/21755 */display: inline-block !important;position: relative;}#sk-container-id-3 div.sk-text-repr-fallback {display: none;}</style><div id=\"sk-container-id-3\" class=\"sk-top-container\"><div class=\"sk-text-repr-fallback\"><pre>RandomForestClassifier()</pre><b>In a Jupyter environment, please rerun this cell to show the HTML representation or trust the notebook. <br />On GitHub, the HTML representation is unable to render, please try loading this page with nbviewer.org.</b></div><div class=\"sk-container\" hidden><div class=\"sk-item\"><div class=\"sk-estimator sk-toggleable\"><input class=\"sk-toggleable__control sk-hidden--visually\" id=\"sk-estimator-id-3\" type=\"checkbox\" checked><label for=\"sk-estimator-id-3\" class=\"sk-toggleable__label sk-toggleable__label-arrow\">RandomForestClassifier</label><div class=\"sk-toggleable__content\"><pre>RandomForestClassifier()</pre></div></div></div></div></div>"
     },
     "execution_count": 23,
     "metadata": {},
     "output_type": "execute_result"
    }
   ],
   "source": [
    "rf.fit(X_train, y_train)"
   ],
   "metadata": {
    "collapsed": false,
    "pycharm": {
     "name": "#%%\n"
    }
   }
  },
  {
   "cell_type": "code",
   "execution_count": 24,
   "outputs": [
    {
     "data": {
      "text/plain": "array([0, 0, 1, 1, 1, 1, 0, 2, 1, 2, 3, 1, 0, 2, 1, 0, 1, 0, 2, 0, 2, 1,\n       0, 2, 2, 2, 2, 2, 0, 1, 0, 0, 1, 1, 2, 0, 0, 0, 1, 1, 0, 0, 0, 0,\n       0, 2, 3, 0, 1, 2, 0, 2, 2, 2, 1, 0, 2, 1, 2, 0, 2, 0, 1, 2, 0, 1,\n       2, 0, 0, 0, 2, 0, 0, 1, 0, 2, 0, 0, 1, 2, 1])"
     },
     "execution_count": 24,
     "metadata": {},
     "output_type": "execute_result"
    }
   ],
   "source": [
    "y_pred = rf.predict(X_test)\n",
    "y_pred"
   ],
   "metadata": {
    "collapsed": false,
    "pycharm": {
     "name": "#%%\n"
    }
   }
  },
  {
   "cell_type": "code",
   "execution_count": 25,
   "outputs": [
    {
     "data": {
      "text/plain": "array([0, 0, 1, 1, 1, 1, 0, 2, 1, 2, 3, 1, 0, 2, 1, 0, 1, 0, 2, 0, 2, 1,\n       0, 2, 2, 2, 2, 2, 0, 1, 0, 0, 1, 1, 2, 0, 0, 0, 1, 1, 0, 0, 0, 3,\n       0, 2, 3, 0, 1, 2, 0, 2, 2, 2, 1, 0, 2, 1, 2, 0, 2, 0, 1, 2, 0, 1,\n       2, 0, 0, 0, 2, 0, 0, 1, 0, 2, 0, 0, 1, 2, 1])"
     },
     "execution_count": 25,
     "metadata": {},
     "output_type": "execute_result"
    }
   ],
   "source": [
    "y_test"
   ],
   "metadata": {
    "collapsed": false,
    "pycharm": {
     "name": "#%%\n"
    }
   }
  },
  {
   "cell_type": "code",
   "execution_count": 26,
   "outputs": [
    {
     "data": {
      "text/plain": "0.9876543209876543"
     },
     "execution_count": 26,
     "metadata": {},
     "output_type": "execute_result"
    }
   ],
   "source": [
    "from sklearn import metrics\n",
    "metrics.accuracy_score(y_test, y_pred)"
   ],
   "metadata": {
    "collapsed": false,
    "pycharm": {
     "name": "#%%\n"
    }
   }
  }
 ],
 "metadata": {
  "kernelspec": {
   "display_name": "Python 3",
   "language": "python",
   "name": "python3"
  },
  "language_info": {
   "codemirror_mode": {
    "name": "ipython",
    "version": 2
   },
   "file_extension": ".py",
   "mimetype": "text/x-python",
   "name": "python",
   "nbconvert_exporter": "python",
   "pygments_lexer": "ipython2",
   "version": "2.7.6"
  }
 },
 "nbformat": 4,
 "nbformat_minor": 0
}
{
 "cells": [
  {
   "cell_type": "code",
   "execution_count": 1,
   "outputs": [],
   "source": [
    "import sklearn\n",
    "import numpy as np\n",
    "import pandas as pd\n",
    "import seaborn as sns\n",
    "import matplotlib.pyplot as plt\n",
    "import tensorflow as tf\n",
    "import os\n",
    "import glob\n",
    "from util.utils import *"
   ],
   "metadata": {
    "collapsed": false,
    "pycharm": {
     "name": "#%%\n"
    }
   }
  },
  {
   "cell_type": "code",
   "execution_count": 2,
   "outputs": [],
   "source": [
    "os.chdir('../data')\n",
    "names = glob.glob('*.csv')\n",
    "names = ['../data/' + name for name in names if '_1.csv' in name or '_2.csv' in name or '_3.csv' in name or '_4.csv' in name or '_5.csv' in name]\n",
    "types = []\n",
    "for name in names:\n",
    "    type = ''\n",
    "    if 'PS' in name:\n",
    "        type = 'Polystyrene'\n",
    "    elif 'NI' in name:\n",
    "        type = 'Nitrate'\n",
    "    elif 'SS' in name:\n",
    "        type = 'Sunscreen'\n",
    "    else:\n",
    "        type = 'Plain'\n",
    "    types.append(type_dict(type))"
   ],
   "metadata": {
    "collapsed": false,
    "pycharm": {
     "name": "#%%\n"
    }
   }
  },
  {
   "cell_type": "code",
   "execution_count": 3,
   "outputs": [
    {
     "data": {
      "text/plain": "((405, 1024), (405,))"
     },
     "execution_count": 3,
     "metadata": {},
     "output_type": "execute_result"
    }
   ],
   "source": [
    "X, y = create_data_matrix(names, types)\n",
    "X.shape, y.shape"
   ],
   "metadata": {
    "collapsed": false,
    "pycharm": {
     "name": "#%%\n"
    }
   }
  },
  {
   "cell_type": "code",
   "execution_count": 4,
   "outputs": [
    {
     "data": {
      "text/plain": "(324, 1024)"
     },
     "execution_count": 4,
     "metadata": {},
     "output_type": "execute_result"
    }
   ],
   "source": [
    "from sklearn.model_selection import train_test_split\n",
    "X_train, X_test, y_train, y_test = train_test_split(X, y, test_size=0.2)\n",
    "X_train.shape"
   ],
   "metadata": {
    "collapsed": false,
    "pycharm": {
     "name": "#%%\n"
    }
   }
  },
  {
   "cell_type": "code",
   "execution_count": 5,
   "outputs": [],
   "source": [
    "import pickle as pkl\n",
    "os.chdir('../model')"
   ],
   "metadata": {
    "collapsed": false,
    "pycharm": {
     "name": "#%%\n"
    }
   }
  },
  {
   "cell_type": "code",
   "execution_count": 6,
   "outputs": [],
   "source": [
    "from sklearn.ensemble import RandomForestClassifier\n",
    "#model = RandomForestClassifier()\n",
    "#model.fit(X_train, y_train)\n",
    "#pkl.dump(model, open('MODEL', 'wb'))"
   ],
   "metadata": {
    "collapsed": false,
    "pycharm": {
     "name": "#%%\n"
    }
   }
  },
  {
   "cell_type": "code",
   "execution_count": 7,
   "outputs": [],
   "source": [
    "model = pkl.load(open('MODEL', 'rb'))"
   ],
   "metadata": {
    "collapsed": false,
    "pycharm": {
     "name": "#%%\n"
    }
   }
  },
  {
   "cell_type": "code",
   "execution_count": 8,
   "outputs": [
    {
     "data": {
      "text/plain": "array([1, 0, 0, 1, 2, 2, 0, 1, 2, 0, 1, 1, 1, 1, 0, 2, 1, 0, 0, 0, 0, 1,\n       0, 0, 0, 2, 1, 0, 1, 2, 1, 2, 2, 2, 2, 0, 0, 1, 1, 1, 2, 1, 3, 0,\n       0, 1, 2, 1, 3, 0, 1, 1, 0, 0, 2, 1, 1, 2, 0, 0, 1, 0, 1, 2, 1, 0,\n       1, 0, 1, 1, 2, 0, 0, 0, 0, 0, 0, 1, 2, 0, 1])"
     },
     "execution_count": 8,
     "metadata": {},
     "output_type": "execute_result"
    }
   ],
   "source": [
    "y_pred = model.predict(X_test)\n",
    "y_pred"
   ],
   "metadata": {
    "collapsed": false,
    "pycharm": {
     "name": "#%%\n"
    }
   }
  },
  {
   "cell_type": "code",
   "execution_count": 9,
   "outputs": [
    {
     "data": {
      "text/plain": "array([1, 0, 0, 1, 2, 2, 0, 1, 2, 0, 1, 1, 1, 1, 0, 2, 1, 0, 0, 0, 0, 1,\n       0, 0, 0, 2, 1, 0, 1, 2, 1, 2, 2, 2, 2, 0, 0, 1, 1, 1, 2, 1, 3, 0,\n       0, 1, 2, 1, 3, 0, 1, 1, 0, 0, 2, 1, 1, 2, 0, 0, 1, 0, 1, 2, 1, 0,\n       1, 0, 1, 1, 2, 0, 0, 0, 0, 0, 0, 1, 2, 0, 1])"
     },
     "execution_count": 9,
     "metadata": {},
     "output_type": "execute_result"
    }
   ],
   "source": [
    "y_test"
   ],
   "metadata": {
    "collapsed": false,
    "pycharm": {
     "name": "#%%\n"
    }
   }
  },
  {
   "cell_type": "code",
   "execution_count": 10,
   "outputs": [
    {
     "data": {
      "text/plain": "1.0"
     },
     "execution_count": 10,
     "metadata": {},
     "output_type": "execute_result"
    }
   ],
   "source": [
    "from sklearn import metrics\n",
    "metrics.accuracy_score(y_test, y_pred)"
   ],
   "metadata": {
    "collapsed": false,
    "pycharm": {
     "name": "#%%\n"
    }
   }
  }
 ],
 "metadata": {
  "kernelspec": {
   "display_name": "Python 3",
   "language": "python",
   "name": "python3"
  },
  "language_info": {
   "codemirror_mode": {
    "name": "ipython",
    "version": 2
   },
   "file_extension": ".py",
   "mimetype": "text/x-python",
   "name": "python",
   "nbconvert_exporter": "python",
   "pygments_lexer": "ipython2",
   "version": "2.7.6"
  }
 },
 "nbformat": 4,
 "nbformat_minor": 0
}
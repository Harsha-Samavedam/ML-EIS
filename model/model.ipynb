{
 "cells": [
  {
   "cell_type": "code",
   "execution_count": 8,
   "metadata": {
    "pycharm": {
     "name": "#%%\n"
    }
   },
   "outputs": [],
   "source": [
    "import os\n",
    "import glob\n",
    "\n",
    "import numpy as np\n",
    "import sklearn.svm\n",
    "\n",
    "from utils import *\n",
    "from dir_model import PKG_DIR\n",
    "os.chdir(PKG_DIR)"
   ]
  },
  {
   "cell_type": "code",
   "execution_count": 9,
   "metadata": {
    "pycharm": {
     "name": "#%%\n"
    }
   },
   "outputs": [],
   "source": [
    "os.chdir('../data')\n",
    "names = glob.glob('*.csv')\n",
    "names = ['../data/' + name for name in names if '_1.csv' in name or '_2.csv' in name or '_3.csv' in name or '_4.csv' in name or '_5.csv' in name]\n",
    "types = []\n",
    "count = 0\n",
    "for name in names:\n",
    "    type_ = [0, 0, 0]\n",
    "    if 'PS' in name:\n",
    "        type_[0] = 1\n",
    "    if 'NI' in name:\n",
    "        type_[1] = 1\n",
    "    if 'SS' in name:\n",
    "        type_[2] = 1\n",
    "\n",
    "    types.append(np.array(type_))"
   ]
  },
  {
   "cell_type": "code",
   "execution_count": 10,
   "metadata": {
    "pycharm": {
     "name": "#%%\n"
    }
   },
   "outputs": [
    {
     "data": {
      "text/plain": "((405, 1024), (405, 3))"
     },
     "execution_count": 10,
     "metadata": {},
     "output_type": "execute_result"
    }
   ],
   "source": [
    "X, y = create_data_matrix(names, types)\n",
    "X.shape, y.shape"
   ]
  },
  {
   "cell_type": "code",
   "execution_count": 11,
   "metadata": {
    "pycharm": {
     "name": "#%%\n"
    }
   },
   "outputs": [
    {
     "data": {
      "text/plain": "(324, 1024)"
     },
     "execution_count": 11,
     "metadata": {},
     "output_type": "execute_result"
    }
   ],
   "source": [
    "from sklearn.model_selection import train_test_split\n",
    "X_train, X_test, y_train, y_test = train_test_split(X, y, test_size=0.2)\n",
    "X_train.shape"
   ]
  },
  {
   "cell_type": "code",
   "execution_count": 12,
   "metadata": {
    "pycharm": {
     "name": "#%%\n"
    }
   },
   "outputs": [],
   "source": [
    "import pickle as pkl\n",
    "os.chdir('../model')"
   ]
  },
  {
   "cell_type": "code",
   "execution_count": 13,
   "metadata": {
    "pycharm": {
     "name": "#%%\n"
    }
   },
   "outputs": [],
   "source": [
    "from sklearn.ensemble import RandomForestClassifier\n",
    "#model = RandomForestClassifier()\n",
    "#model.fit(X_train, y_train)\n",
    "#pkl.dump(model, open('MODEL_MAT_UPDATED_MULTI', 'wb'))"
   ]
  },
  {
   "cell_type": "code",
   "execution_count": 14,
   "metadata": {
    "pycharm": {
     "name": "#%%\n"
    }
   },
   "outputs": [
    {
     "name": "stderr",
     "output_type": "stream",
     "text": [
      "C:\\Users\\akhil\\anaconda3\\envs\\tf\\lib\\site-packages\\sklearn\\base.py:288: UserWarning: Trying to unpickle estimator DecisionTreeClassifier from version 1.2.1 when using version 1.2.0. This might lead to breaking code or invalid results. Use at your own risk. For more info please refer to:\n",
      "https://scikit-learn.org/stable/model_persistence.html#security-maintainability-limitations\n",
      "  warnings.warn(\n",
      "C:\\Users\\akhil\\anaconda3\\envs\\tf\\lib\\site-packages\\sklearn\\base.py:288: UserWarning: Trying to unpickle estimator RandomForestClassifier from version 1.2.1 when using version 1.2.0. This might lead to breaking code or invalid results. Use at your own risk. For more info please refer to:\n",
      "https://scikit-learn.org/stable/model_persistence.html#security-maintainability-limitations\n",
      "  warnings.warn(\n"
     ]
    }
   ],
   "source": [
    "model = pkl.load(open('MODEL', 'rb'))"
   ]
  },
  {
   "cell_type": "code",
   "execution_count": 15,
   "metadata": {
    "pycharm": {
     "name": "#%%\n"
    }
   },
   "outputs": [],
   "source": [
    "y_pred = model.predict(X_test)"
   ]
  },
  {
   "cell_type": "code",
   "execution_count": 16,
   "metadata": {
    "pycharm": {
     "name": "#%%\n"
    }
   },
   "outputs": [
    {
     "data": {
      "text/plain": "1.0"
     },
     "execution_count": 16,
     "metadata": {},
     "output_type": "execute_result"
    }
   ],
   "source": [
    "from sklearn import metrics\n",
    "metrics.accuracy_score(y_test, y_pred)"
   ]
  },
  {
   "cell_type": "code",
   "execution_count": 17,
   "outputs": [],
   "source": [
    "from sklearn.svm import SVC\n",
    "#svm = SVC()\n",
    "svm_train = np.array([np.argmax(i) for i in y_train])\n",
    "svm_test = np.array([np.argmax(i) for i in y_test])\n",
    "#svm.fit(X_train, svm_train)"
   ],
   "metadata": {
    "collapsed": false,
    "pycharm": {
     "name": "#%%\n"
    }
   }
  },
  {
   "cell_type": "code",
   "execution_count": 18,
   "outputs": [
    {
     "name": "stderr",
     "output_type": "stream",
     "text": [
      "C:\\Users\\akhil\\anaconda3\\envs\\tf\\lib\\site-packages\\sklearn\\base.py:288: UserWarning: Trying to unpickle estimator SVC from version 1.2.1 when using version 1.2.0. This might lead to breaking code or invalid results. Use at your own risk. For more info please refer to:\n",
      "https://scikit-learn.org/stable/model_persistence.html#security-maintainability-limitations\n",
      "  warnings.warn(\n"
     ]
    },
    {
     "data": {
      "text/plain": "0.5432098765432098"
     },
     "execution_count": 18,
     "metadata": {},
     "output_type": "execute_result"
    }
   ],
   "source": [
    "svm = pkl.load(open('SVM', 'rb'))\n",
    "svm_pred = svm.predict(X_test)\n",
    "metrics.accuracy_score(svm_test, svm_pred)"
   ],
   "metadata": {
    "collapsed": false,
    "pycharm": {
     "name": "#%%\n"
    }
   }
  },
  {
   "cell_type": "code",
   "execution_count": 19,
   "outputs": [],
   "source": [
    "#pkl.dump(svm, open('SVM', 'wb'))"
   ],
   "metadata": {
    "collapsed": false,
    "pycharm": {
     "name": "#%%\n"
    }
   }
  },
  {
   "cell_type": "code",
   "execution_count": null,
   "outputs": [],
   "source": [
    "import tensorflow as tf\n",
    "\n",
    "mlp = tf.keras.Sequential([\n",
    "    tf.keras.layers.Input(1024),\n",
    "    tf.keras.layers.Dense(512),\n",
    "    tf.keras.layers.Dense(256),\n",
    "    tf.keras.layers.Dense(128),\n",
    "    tf.keras.layers.Dense(64),\n",
    "    tf.keras.layers.Dense(32),\n",
    "    tf.keras.layers.Dense(16),\n",
    "    tf.keras.layers.Dense(8),\n",
    "    tf.keras.layers.Dense(3),\n",
    "])"
   ],
   "metadata": {
    "collapsed": false,
    "pycharm": {
     "name": "#%%\n"
    }
   }
  },
  {
   "cell_type": "code",
   "execution_count": 24,
   "outputs": [
    {
     "data": {
      "text/plain": "<bound method Model.summary of <keras.engine.sequential.Sequential object at 0x0000022D359A10D0>>"
     },
     "execution_count": 24,
     "metadata": {},
     "output_type": "execute_result"
    }
   ],
   "source": [
    "mlp.summary"
   ],
   "metadata": {
    "collapsed": false,
    "pycharm": {
     "name": "#%%\n"
    }
   }
  },
  {
   "cell_type": "code",
   "execution_count": 21,
   "outputs": [],
   "source": [
    "mlp.compile(\n",
    "    optimizer='adam',\n",
    "    loss='categorical_crossentropy',\n",
    "    metrics=['accuracy'],\n",
    ")"
   ],
   "metadata": {
    "collapsed": false,
    "pycharm": {
     "name": "#%%\n"
    }
   }
  },
  {
   "cell_type": "code",
   "execution_count": 22,
   "outputs": [
    {
     "name": "stdout",
     "output_type": "stream",
     "text": [
      "Epoch 1/100\n",
      "11/11 [==============================] - 3s 29ms/step - loss: 6.4266 - accuracy: 0.4259 - val_loss: 9.9494 - val_accuracy: 0.3333\n",
      "Epoch 2/100\n",
      "11/11 [==============================] - 0s 11ms/step - loss: 9.0042 - accuracy: 0.4259 - val_loss: 10.7454 - val_accuracy: 0.3333\n",
      "Epoch 3/100\n",
      "11/11 [==============================] - 0s 12ms/step - loss: 9.2530 - accuracy: 0.4259 - val_loss: 10.7454 - val_accuracy: 0.3333\n",
      "Epoch 4/100\n",
      "11/11 [==============================] - 0s 11ms/step - loss: 9.2530 - accuracy: 0.4259 - val_loss: 10.7454 - val_accuracy: 0.3333\n",
      "Epoch 5/100\n",
      "11/11 [==============================] - 0s 11ms/step - loss: 9.2530 - accuracy: 0.4259 - val_loss: 10.7454 - val_accuracy: 0.3333\n",
      "Epoch 6/100\n",
      "11/11 [==============================] - 0s 6ms/step - loss: 9.2530 - accuracy: 0.4259 - val_loss: 10.7454 - val_accuracy: 0.3333\n",
      "Epoch 7/100\n",
      "11/11 [==============================] - 0s 6ms/step - loss: 9.2530 - accuracy: 0.4259 - val_loss: 10.7454 - val_accuracy: 0.3333\n",
      "Epoch 8/100\n",
      "11/11 [==============================] - 0s 6ms/step - loss: 9.2530 - accuracy: 0.4259 - val_loss: 10.7454 - val_accuracy: 0.3333\n",
      "Epoch 9/100\n",
      "11/11 [==============================] - 0s 6ms/step - loss: 9.2530 - accuracy: 0.4259 - val_loss: 10.7454 - val_accuracy: 0.3333\n",
      "Epoch 10/100\n",
      "11/11 [==============================] - 0s 6ms/step - loss: 9.2530 - accuracy: 0.4259 - val_loss: 10.7454 - val_accuracy: 0.3333\n",
      "Epoch 11/100\n",
      "11/11 [==============================] - 0s 6ms/step - loss: 9.2530 - accuracy: 0.4259 - val_loss: 10.7454 - val_accuracy: 0.3333\n",
      "Epoch 12/100\n",
      "11/11 [==============================] - 0s 6ms/step - loss: 9.2530 - accuracy: 0.4259 - val_loss: 10.7454 - val_accuracy: 0.3333\n",
      "Epoch 13/100\n",
      "11/11 [==============================] - 0s 6ms/step - loss: 9.2530 - accuracy: 0.4259 - val_loss: 10.7454 - val_accuracy: 0.3333\n",
      "Epoch 14/100\n",
      "11/11 [==============================] - 0s 7ms/step - loss: 9.2530 - accuracy: 0.4259 - val_loss: 10.7454 - val_accuracy: 0.3333\n",
      "Epoch 15/100\n",
      "11/11 [==============================] - 0s 6ms/step - loss: 9.2530 - accuracy: 0.4259 - val_loss: 10.7454 - val_accuracy: 0.3333\n",
      "Epoch 16/100\n",
      "11/11 [==============================] - 0s 6ms/step - loss: 9.2530 - accuracy: 0.4259 - val_loss: 10.7454 - val_accuracy: 0.3333\n",
      "Epoch 17/100\n",
      "11/11 [==============================] - 0s 6ms/step - loss: 9.2530 - accuracy: 0.4259 - val_loss: 10.7454 - val_accuracy: 0.3333\n",
      "Epoch 18/100\n",
      "11/11 [==============================] - 0s 6ms/step - loss: 9.2530 - accuracy: 0.4259 - val_loss: 10.7454 - val_accuracy: 0.3333\n",
      "Epoch 19/100\n",
      "11/11 [==============================] - 0s 6ms/step - loss: 9.2530 - accuracy: 0.4259 - val_loss: 10.7454 - val_accuracy: 0.3333\n",
      "Epoch 20/100\n",
      "11/11 [==============================] - 0s 6ms/step - loss: 9.2530 - accuracy: 0.4259 - val_loss: 10.7454 - val_accuracy: 0.3333\n",
      "Epoch 21/100\n",
      "11/11 [==============================] - 0s 6ms/step - loss: 9.2530 - accuracy: 0.4259 - val_loss: 10.7454 - val_accuracy: 0.3333\n",
      "Epoch 22/100\n",
      "11/11 [==============================] - 0s 6ms/step - loss: 9.2530 - accuracy: 0.4259 - val_loss: 10.7454 - val_accuracy: 0.3333\n",
      "Epoch 23/100\n",
      "11/11 [==============================] - 0s 6ms/step - loss: 9.2530 - accuracy: 0.4259 - val_loss: 10.7454 - val_accuracy: 0.3333\n",
      "Epoch 24/100\n",
      "11/11 [==============================] - 0s 6ms/step - loss: 9.2530 - accuracy: 0.4259 - val_loss: 10.7454 - val_accuracy: 0.3333\n",
      "Epoch 25/100\n",
      "11/11 [==============================] - 0s 6ms/step - loss: 9.2530 - accuracy: 0.4259 - val_loss: 10.7454 - val_accuracy: 0.3333\n",
      "Epoch 26/100\n",
      "11/11 [==============================] - 0s 6ms/step - loss: 9.2530 - accuracy: 0.4259 - val_loss: 10.7454 - val_accuracy: 0.3333\n",
      "Epoch 27/100\n",
      "11/11 [==============================] - 0s 6ms/step - loss: 9.2530 - accuracy: 0.4259 - val_loss: 10.7454 - val_accuracy: 0.3333\n",
      "Epoch 28/100\n",
      "11/11 [==============================] - 0s 6ms/step - loss: 9.2530 - accuracy: 0.4259 - val_loss: 10.7454 - val_accuracy: 0.3333\n",
      "Epoch 29/100\n",
      "11/11 [==============================] - 0s 6ms/step - loss: 9.2530 - accuracy: 0.4259 - val_loss: 10.7454 - val_accuracy: 0.3333\n",
      "Epoch 30/100\n",
      "11/11 [==============================] - 0s 6ms/step - loss: 9.2530 - accuracy: 0.4259 - val_loss: 10.7454 - val_accuracy: 0.3333\n",
      "Epoch 31/100\n",
      "11/11 [==============================] - 0s 6ms/step - loss: 9.2530 - accuracy: 0.4259 - val_loss: 10.7454 - val_accuracy: 0.3333\n",
      "Epoch 32/100\n",
      "11/11 [==============================] - 0s 6ms/step - loss: 9.2530 - accuracy: 0.4259 - val_loss: 10.7454 - val_accuracy: 0.3333\n",
      "Epoch 33/100\n",
      "11/11 [==============================] - 0s 6ms/step - loss: 9.2530 - accuracy: 0.4259 - val_loss: 10.7454 - val_accuracy: 0.3333\n",
      "Epoch 34/100\n",
      "11/11 [==============================] - 0s 6ms/step - loss: 9.2530 - accuracy: 0.4259 - val_loss: 10.7454 - val_accuracy: 0.3333\n",
      "Epoch 35/100\n",
      "11/11 [==============================] - 0s 6ms/step - loss: 9.2530 - accuracy: 0.4259 - val_loss: 10.7454 - val_accuracy: 0.3333\n",
      "Epoch 36/100\n",
      "11/11 [==============================] - 0s 6ms/step - loss: 9.2530 - accuracy: 0.4259 - val_loss: 10.7454 - val_accuracy: 0.3333\n",
      "Epoch 37/100\n",
      "11/11 [==============================] - 0s 6ms/step - loss: 9.2530 - accuracy: 0.4259 - val_loss: 10.7454 - val_accuracy: 0.3333\n",
      "Epoch 38/100\n",
      "11/11 [==============================] - 0s 6ms/step - loss: 9.2530 - accuracy: 0.4259 - val_loss: 10.7454 - val_accuracy: 0.3333\n",
      "Epoch 39/100\n",
      "11/11 [==============================] - 0s 6ms/step - loss: 9.2530 - accuracy: 0.4259 - val_loss: 10.7454 - val_accuracy: 0.3333\n",
      "Epoch 40/100\n",
      "11/11 [==============================] - 0s 6ms/step - loss: 9.2530 - accuracy: 0.4259 - val_loss: 10.7454 - val_accuracy: 0.3333\n",
      "Epoch 41/100\n",
      "11/11 [==============================] - 0s 6ms/step - loss: 9.2530 - accuracy: 0.4259 - val_loss: 10.7454 - val_accuracy: 0.3333\n",
      "Epoch 42/100\n",
      "11/11 [==============================] - 0s 6ms/step - loss: 9.2530 - accuracy: 0.4259 - val_loss: 10.7454 - val_accuracy: 0.3333\n",
      "Epoch 43/100\n",
      "11/11 [==============================] - 0s 6ms/step - loss: 9.2530 - accuracy: 0.4259 - val_loss: 10.7454 - val_accuracy: 0.3333\n",
      "Epoch 44/100\n",
      "11/11 [==============================] - 0s 6ms/step - loss: 9.2530 - accuracy: 0.4259 - val_loss: 10.7454 - val_accuracy: 0.3333\n",
      "Epoch 45/100\n",
      "11/11 [==============================] - 0s 6ms/step - loss: 9.2530 - accuracy: 0.4259 - val_loss: 10.7454 - val_accuracy: 0.3333\n",
      "Epoch 46/100\n",
      "11/11 [==============================] - 0s 6ms/step - loss: 9.2530 - accuracy: 0.4259 - val_loss: 10.7454 - val_accuracy: 0.3333\n",
      "Epoch 47/100\n",
      "11/11 [==============================] - 0s 6ms/step - loss: 9.2530 - accuracy: 0.4259 - val_loss: 10.7454 - val_accuracy: 0.3333\n",
      "Epoch 48/100\n",
      "11/11 [==============================] - 0s 6ms/step - loss: 9.2530 - accuracy: 0.4259 - val_loss: 10.7454 - val_accuracy: 0.3333\n",
      "Epoch 49/100\n",
      "11/11 [==============================] - 0s 6ms/step - loss: 9.2530 - accuracy: 0.4259 - val_loss: 10.7454 - val_accuracy: 0.3333\n",
      "Epoch 50/100\n",
      "11/11 [==============================] - 0s 6ms/step - loss: 9.2530 - accuracy: 0.4259 - val_loss: 10.7454 - val_accuracy: 0.3333\n",
      "Epoch 51/100\n",
      "11/11 [==============================] - 0s 6ms/step - loss: 9.2530 - accuracy: 0.4259 - val_loss: 10.7454 - val_accuracy: 0.3333\n",
      "Epoch 52/100\n",
      "11/11 [==============================] - 0s 6ms/step - loss: 9.2530 - accuracy: 0.4259 - val_loss: 10.7454 - val_accuracy: 0.3333\n",
      "Epoch 53/100\n",
      "11/11 [==============================] - 0s 6ms/step - loss: 9.2530 - accuracy: 0.4259 - val_loss: 10.7454 - val_accuracy: 0.3333\n",
      "Epoch 54/100\n",
      "11/11 [==============================] - 0s 6ms/step - loss: 9.2530 - accuracy: 0.4259 - val_loss: 10.7454 - val_accuracy: 0.3333\n",
      "Epoch 55/100\n",
      "11/11 [==============================] - 0s 6ms/step - loss: 9.2530 - accuracy: 0.4259 - val_loss: 10.7454 - val_accuracy: 0.3333\n",
      "Epoch 56/100\n",
      "11/11 [==============================] - 0s 6ms/step - loss: 9.2530 - accuracy: 0.4259 - val_loss: 10.7454 - val_accuracy: 0.3333\n",
      "Epoch 57/100\n",
      "11/11 [==============================] - 0s 6ms/step - loss: 9.2530 - accuracy: 0.4259 - val_loss: 10.7454 - val_accuracy: 0.3333\n",
      "Epoch 58/100\n",
      "11/11 [==============================] - 0s 6ms/step - loss: 9.2530 - accuracy: 0.4259 - val_loss: 10.7454 - val_accuracy: 0.3333\n",
      "Epoch 59/100\n",
      "11/11 [==============================] - 0s 6ms/step - loss: 9.2530 - accuracy: 0.4259 - val_loss: 10.7454 - val_accuracy: 0.3333\n",
      "Epoch 60/100\n",
      "11/11 [==============================] - 0s 6ms/step - loss: 9.2530 - accuracy: 0.4259 - val_loss: 10.7454 - val_accuracy: 0.3333\n",
      "Epoch 61/100\n",
      "11/11 [==============================] - 0s 6ms/step - loss: 9.2530 - accuracy: 0.4259 - val_loss: 10.7454 - val_accuracy: 0.3333\n",
      "Epoch 62/100\n",
      "11/11 [==============================] - 0s 6ms/step - loss: 9.2530 - accuracy: 0.4259 - val_loss: 10.7454 - val_accuracy: 0.3333\n",
      "Epoch 63/100\n",
      "11/11 [==============================] - 0s 6ms/step - loss: 9.2530 - accuracy: 0.4259 - val_loss: 10.7454 - val_accuracy: 0.3333\n",
      "Epoch 64/100\n",
      "11/11 [==============================] - 0s 6ms/step - loss: 9.2530 - accuracy: 0.4259 - val_loss: 10.7454 - val_accuracy: 0.3333\n",
      "Epoch 65/100\n",
      "11/11 [==============================] - 0s 6ms/step - loss: 9.2530 - accuracy: 0.4259 - val_loss: 10.7454 - val_accuracy: 0.3333\n",
      "Epoch 66/100\n",
      "11/11 [==============================] - 0s 6ms/step - loss: 9.2530 - accuracy: 0.4259 - val_loss: 10.7454 - val_accuracy: 0.3333\n",
      "Epoch 67/100\n",
      "11/11 [==============================] - 0s 6ms/step - loss: 9.2530 - accuracy: 0.4259 - val_loss: 10.7454 - val_accuracy: 0.3333\n",
      "Epoch 68/100\n",
      "11/11 [==============================] - 0s 6ms/step - loss: 9.2530 - accuracy: 0.4259 - val_loss: 10.7454 - val_accuracy: 0.3333\n",
      "Epoch 69/100\n",
      "11/11 [==============================] - 0s 6ms/step - loss: 9.2530 - accuracy: 0.4259 - val_loss: 10.7454 - val_accuracy: 0.3333\n",
      "Epoch 70/100\n",
      "11/11 [==============================] - 0s 6ms/step - loss: 9.2530 - accuracy: 0.4259 - val_loss: 10.7454 - val_accuracy: 0.3333\n",
      "Epoch 71/100\n",
      "11/11 [==============================] - 0s 6ms/step - loss: 9.2530 - accuracy: 0.4259 - val_loss: 10.7454 - val_accuracy: 0.3333\n",
      "Epoch 72/100\n",
      "11/11 [==============================] - 0s 6ms/step - loss: 9.2530 - accuracy: 0.4259 - val_loss: 10.7454 - val_accuracy: 0.3333\n",
      "Epoch 73/100\n",
      "11/11 [==============================] - 0s 6ms/step - loss: 9.2530 - accuracy: 0.4259 - val_loss: 10.7454 - val_accuracy: 0.3333\n",
      "Epoch 74/100\n",
      "11/11 [==============================] - 0s 6ms/step - loss: 9.2530 - accuracy: 0.4259 - val_loss: 10.7454 - val_accuracy: 0.3333\n",
      "Epoch 75/100\n",
      "11/11 [==============================] - 0s 6ms/step - loss: 9.2530 - accuracy: 0.4259 - val_loss: 10.7454 - val_accuracy: 0.3333\n",
      "Epoch 76/100\n",
      "11/11 [==============================] - 0s 6ms/step - loss: 9.2530 - accuracy: 0.4259 - val_loss: 10.7454 - val_accuracy: 0.3333\n",
      "Epoch 77/100\n",
      "11/11 [==============================] - 0s 6ms/step - loss: 9.2530 - accuracy: 0.4259 - val_loss: 10.7454 - val_accuracy: 0.3333\n",
      "Epoch 78/100\n",
      "11/11 [==============================] - 0s 6ms/step - loss: 9.2530 - accuracy: 0.4259 - val_loss: 10.7454 - val_accuracy: 0.3333\n",
      "Epoch 79/100\n",
      "11/11 [==============================] - 0s 6ms/step - loss: 9.2530 - accuracy: 0.4259 - val_loss: 10.7454 - val_accuracy: 0.3333\n",
      "Epoch 80/100\n",
      "11/11 [==============================] - 0s 6ms/step - loss: 9.2530 - accuracy: 0.4259 - val_loss: 10.7454 - val_accuracy: 0.3333\n",
      "Epoch 81/100\n",
      "11/11 [==============================] - 0s 6ms/step - loss: 9.2530 - accuracy: 0.4259 - val_loss: 10.7454 - val_accuracy: 0.3333\n",
      "Epoch 82/100\n",
      "11/11 [==============================] - 0s 6ms/step - loss: 9.2530 - accuracy: 0.4259 - val_loss: 10.7454 - val_accuracy: 0.3333\n",
      "Epoch 83/100\n",
      "11/11 [==============================] - 0s 6ms/step - loss: 9.2530 - accuracy: 0.4259 - val_loss: 10.7454 - val_accuracy: 0.3333\n",
      "Epoch 84/100\n",
      "11/11 [==============================] - 0s 6ms/step - loss: 9.2530 - accuracy: 0.4259 - val_loss: 10.7454 - val_accuracy: 0.3333\n",
      "Epoch 85/100\n",
      "11/11 [==============================] - 0s 6ms/step - loss: 9.2530 - accuracy: 0.4259 - val_loss: 10.7454 - val_accuracy: 0.3333\n",
      "Epoch 86/100\n",
      "11/11 [==============================] - 0s 6ms/step - loss: 9.2530 - accuracy: 0.4259 - val_loss: 10.7454 - val_accuracy: 0.3333\n",
      "Epoch 87/100\n",
      "11/11 [==============================] - 0s 6ms/step - loss: 9.2530 - accuracy: 0.4259 - val_loss: 10.7454 - val_accuracy: 0.3333\n",
      "Epoch 88/100\n",
      "11/11 [==============================] - 0s 6ms/step - loss: 9.2530 - accuracy: 0.4259 - val_loss: 10.7454 - val_accuracy: 0.3333\n",
      "Epoch 89/100\n",
      "11/11 [==============================] - 0s 6ms/step - loss: 9.2530 - accuracy: 0.4259 - val_loss: 10.7454 - val_accuracy: 0.3333\n",
      "Epoch 90/100\n",
      "11/11 [==============================] - 0s 6ms/step - loss: 9.2530 - accuracy: 0.4259 - val_loss: 10.7454 - val_accuracy: 0.3333\n",
      "Epoch 91/100\n",
      "11/11 [==============================] - 0s 6ms/step - loss: 9.2530 - accuracy: 0.4259 - val_loss: 10.7454 - val_accuracy: 0.3333\n",
      "Epoch 92/100\n",
      "11/11 [==============================] - 0s 6ms/step - loss: 9.2530 - accuracy: 0.4259 - val_loss: 10.7454 - val_accuracy: 0.3333\n",
      "Epoch 93/100\n",
      "11/11 [==============================] - 0s 6ms/step - loss: 9.2530 - accuracy: 0.4259 - val_loss: 10.7454 - val_accuracy: 0.3333\n",
      "Epoch 94/100\n",
      "11/11 [==============================] - 0s 6ms/step - loss: 9.2530 - accuracy: 0.4259 - val_loss: 10.7454 - val_accuracy: 0.3333\n",
      "Epoch 95/100\n",
      "11/11 [==============================] - 0s 6ms/step - loss: 9.2530 - accuracy: 0.4259 - val_loss: 10.7454 - val_accuracy: 0.3333\n",
      "Epoch 96/100\n",
      "11/11 [==============================] - 0s 6ms/step - loss: 9.2530 - accuracy: 0.4259 - val_loss: 10.7454 - val_accuracy: 0.3333\n",
      "Epoch 97/100\n",
      "11/11 [==============================] - 0s 6ms/step - loss: 9.2530 - accuracy: 0.4259 - val_loss: 10.7454 - val_accuracy: 0.3333\n",
      "Epoch 98/100\n",
      "11/11 [==============================] - 0s 6ms/step - loss: 9.2530 - accuracy: 0.4259 - val_loss: 10.7454 - val_accuracy: 0.3333\n",
      "Epoch 99/100\n",
      "11/11 [==============================] - 0s 6ms/step - loss: 9.2530 - accuracy: 0.4259 - val_loss: 10.7454 - val_accuracy: 0.3333\n",
      "Epoch 100/100\n",
      "11/11 [==============================] - 0s 6ms/step - loss: 9.2530 - accuracy: 0.4259 - val_loss: 10.7454 - val_accuracy: 0.3333\n"
     ]
    }
   ],
   "source": [
    "history = mlp.fit(\n",
    "    x=X_train,\n",
    "    y=y_train,\n",
    "    validation_data=(X_test, y_test),\n",
    "    epochs=100\n",
    ")"
   ],
   "metadata": {
    "collapsed": false,
    "pycharm": {
     "name": "#%%\n"
    }
   }
  },
  {
   "cell_type": "code",
   "execution_count": 23,
   "outputs": [
    {
     "name": "stdout",
     "output_type": "stream",
     "text": [
      "3/3 [==============================] - 0s 3ms/step - loss: 10.7454 - accuracy: 0.3333\n"
     ]
    },
    {
     "data": {
      "text/plain": "[10.745396614074707, 0.3333333432674408]"
     },
     "execution_count": 23,
     "metadata": {},
     "output_type": "execute_result"
    }
   ],
   "source": [
    "mlp.evaluate(X_test, y_test)"
   ],
   "metadata": {
    "collapsed": false,
    "pycharm": {
     "name": "#%%\n"
    }
   }
  }
 ],
 "metadata": {
  "kernelspec": {
   "display_name": "Python 3 (ipykernel)",
   "language": "python",
   "name": "python3"
  },
  "language_info": {
   "codemirror_mode": {
    "name": "ipython",
    "version": 3
   },
   "file_extension": ".py",
   "mimetype": "text/x-python",
   "name": "python",
   "nbconvert_exporter": "python",
   "pygments_lexer": "ipython3",
   "version": "3.9.10"
  }
 },
 "nbformat": 4,
 "nbformat_minor": 1
}
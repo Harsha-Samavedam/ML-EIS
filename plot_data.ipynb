{
 "cells": [
  {
   "cell_type": "code",
   "execution_count": null,
   "outputs": [],
   "source": [
    "import math\n",
    "from model.utils import prepare_data\n",
    "import pandas as pd\n",
    "import matplotlib.pyplot as plt\n",
    "import seaborn as sns\n",
    "import numpy as np"
   ],
   "metadata": {
    "collapsed": false,
    "pycharm": {
     "name": "#%%\n"
    }
   }
  },
  {
   "cell_type": "code",
   "execution_count": null,
   "outputs": [],
   "source": [
    "def plot(name : str, filename : str, iter : int):\n",
    "\n",
    "    df = pd.read_csv(filename)\n",
    "\n",
    "    fig, ax = plt.subplots(1, 5, figsize=(40, 10))\n",
    "    plt.rcParams['font.size'] = '20'\n",
    "    fig.suptitle(name)\n",
    "\n",
    "    impedance = np.array(df['Impedance'])\n",
    "    phase = np.array(df['Phase'])\n",
    "\n",
    "    real = impedance * np.cos(np.radians(phase))\n",
    "    imaginary = impedance * np.sin(np.radians(phase))\n",
    "\n",
    "    frequency = np.array(df['Frequency'])\n",
    "\n",
    "    series_resistance = np.abs(impedance) * np.cos(np.radians(phase))\n",
    "    series_capacitance = -1 / (frequency * 2 * math.pi * np.abs(impedance) * np.sin(np.radians(phase)))\n",
    "\n",
    "    parallel_resistance = np.abs(impedance) / np.cos(np.radians(phase))\n",
    "    parallel_capacitance = np.divide(-np.sin(np.radians(phase)), (np.abs(impedance) * 2 * math.pi * frequency))\n",
    "\n",
    "    sns.lineplot(ax=ax[0], x=real, y=imaginary)\n",
    "    ax[0].set_xlabel('Real (Ω)')\n",
    "    ax[0].set_ylabel('Imaginary (Ω)')\n",
    "    ax[0].title.set_text('Real vs. Imaginary')\n",
    "\n",
    "    sns.lineplot(ax=ax[1], x=frequency, y=phase)\n",
    "    ax[1].title.set_text('Frequency vs. Phase')\n",
    "    ax[1].set_xlabel('Frequency (Hz)')\n",
    "    ax[1].set_ylabel('Phase (°)')\n",
    "\n",
    "    sns.lineplot(ax=ax[2], x=frequency, y=impedance)\n",
    "    ax[2].title.set_text('Frequency vs. Impedance')\n",
    "    ax[2].set_xlabel('Frequency (Hz)')\n",
    "    ax[2].set_ylabel('Impedance (Ω)')\n",
    "\n",
    "    sns.lineplot(ax=ax[3], x=frequency, y=parallel_capacitance)\n",
    "    ax[3].title.set_text('Frequency vs. Parallel Capacitance')\n",
    "    ax[3].set_xlabel('Frequency (Hz)')\n",
    "    ax[3].set_ylabel('Capacitance (F)')\n",
    "\n",
    "    sns.lineplot(ax=ax[4], x=frequency, y=parallel_resistance)\n",
    "    ax[4].title.set_text('Frequency vs. Parallel Resistance')\n",
    "    ax[4].set_xlabel('Frequency (Hz)')\n",
    "    ax[4].set_ylabel('Resistance (Ω)')\n",
    "\n",
    "    plt.savefig(f'plots/{name}_{iter}.jpeg', dpi=1000)\n",
    "    plt.savefig(f'eps/{name}.eps', dpi=1000)"
   ],
   "metadata": {
    "collapsed": false,
    "pycharm": {
     "name": "#%%\n"
    }
   }
  },
  {
   "cell_type": "code",
   "execution_count": null,
   "outputs": [],
   "source": [
    "def run(filename, name, number):\n",
    "    prepare_data(filename, len=5)\n",
    "    plot(name, filename, number)"
   ],
   "metadata": {
    "collapsed": false,
    "pycharm": {
     "name": "#%%\n"
    }
   }
  },
  {
   "cell_type": "code",
   "execution_count": null,
   "outputs": [],
   "source": [
    "run('data/DI_48p9mL_PS_1p1mL', 'DI Water', 19)"
   ],
   "metadata": {
    "collapsed": false,
    "pycharm": {
     "name": "#%%\n"
    }
   }
  },
  {
   "cell_type": "code",
   "execution_count": null,
   "outputs": [],
   "source": [
    "run('data/DI_48p9mL_PS_1p1mL', 'DI Water', 19)"
   ],
   "metadata": {
    "collapsed": false
   }
  }
 ],
 "metadata": {
  "kernelspec": {
   "display_name": "Python 3",
   "language": "python",
   "name": "python3"
  },
  "language_info": {
   "codemirror_mode": {
    "name": "ipython",
    "version": 2
   },
   "file_extension": ".py",
   "mimetype": "text/x-python",
   "name": "python",
   "nbconvert_exporter": "python",
   "pygments_lexer": "ipython2",
   "version": "2.7.6"
  }
 },
 "nbformat": 4,
 "nbformat_minor": 0
}